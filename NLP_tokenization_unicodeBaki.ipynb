{
  "nbformat": 4,
  "nbformat_minor": 0,
  "metadata": {
    "colab": {
      "name": "NLP_tokenization_unicodeBaki.ipynb",
      "provenance": []
    },
    "kernelspec": {
      "name": "python3",
      "display_name": "Python 3"
    }
  },
  "cells": [
    {
      "cell_type": "markdown",
      "metadata": {
        "id": "Fk1jFUCTqfSq"
      },
      "source": [
        "## টোকেনাইজেশন, অক্ষরগুলোকে সংখ্যায় আনছি ইউনিকোডে"
      ]
    },
    {
      "cell_type": "markdown",
      "metadata": {
        "id": "xILcGW6Tqdii"
      },
      "source": [
        ""
      ]
    },
    {
      "cell_type": "code",
      "metadata": {
        "colab": {
          "base_uri": "https://localhost:8080/"
        },
        "id": "GutWj_UHqbJi",
        "outputId": "d17148b9-f773-4289-cc2b-1ff478e7da7f"
      },
      "source": [
        "c= '\\u0980'\r\n",
        "ord('আ') #use Order Function()\r\n"
      ],
      "execution_count": 2,
      "outputs": [
        {
          "output_type": "execute_result",
          "data": {
            "text/plain": [
              "2438"
            ]
          },
          "metadata": {
            "tags": []
          },
          "execution_count": 2
        }
      ]
    },
    {
      "cell_type": "code",
      "metadata": {
        "colab": {
          "base_uri": "https://localhost:8080/"
        },
        "id": "ayF8icZerHYR",
        "outputId": "5bba10e5-d133-4a84-c792-ca9540d5b42f"
      },
      "source": [
        "print(c)"
      ],
      "execution_count": 3,
      "outputs": [
        {
          "output_type": "stream",
          "text": [
            "ঀ\n"
          ],
          "name": "stdout"
        }
      ]
    },
    {
      "cell_type": "code",
      "metadata": {
        "colab": {
          "base_uri": "https://localhost:8080/",
          "height": 35
        },
        "id": "w1-S8ATdrgKI",
        "outputId": "81a61ef9-fdc6-4c4c-94f5-0f17c7c096f1"
      },
      "source": [
        "chr(2495) #chr() method returns a character (a string) from an integer (represents unicode code point of the character)"
      ],
      "execution_count": 4,
      "outputs": [
        {
          "output_type": "execute_result",
          "data": {
            "application/vnd.google.colaboratory.intrinsic+json": {
              "type": "string"
            },
            "text/plain": [
              "'ি'"
            ]
          },
          "metadata": {
            "tags": []
          },
          "execution_count": 4
        }
      ]
    },
    {
      "cell_type": "code",
      "metadata": {
        "colab": {
          "base_uri": "https://localhost:8080/"
        },
        "id": "6Dx65XlNr7tP",
        "outputId": "f45937c3-9b64-412a-e51a-fea0afdca134"
      },
      "source": [
        "print(ord('ক'))\r\n",
        "print(ord('ল'))\r\n",
        "print(ord('স'))\r\n",
        "print(ord(' '))"
      ],
      "execution_count": 5,
      "outputs": [
        {
          "output_type": "stream",
          "text": [
            "2453\n",
            "2482\n",
            "2488\n",
            "32\n"
          ],
          "name": "stdout"
        }
      ]
    },
    {
      "cell_type": "markdown",
      "metadata": {
        "id": "zG0JzJG2tALq"
      },
      "source": [
        ""
      ]
    },
    {
      "cell_type": "markdown",
      "metadata": {
        "id": "GQxqJf9rtCjY"
      },
      "source": [
        "ধরুন আমরা একটা শব্দ বলছি কলস, এর মধ্যে তিনটা অক্ষর আছে, যাকে আলাদা করে ইউনিকোড পয়েন্ট কোড হচ্ছে নিচের লাইনে।"
      ]
    },
    {
      "cell_type": "code",
      "metadata": {
        "colab": {
          "base_uri": "https://localhost:8080/"
        },
        "id": "takUDFjdtEeE",
        "outputId": "3cd83937-5cd4-4c18-b1c4-b315f4049990"
      },
      "source": [
        "import numpy as np\r\n",
        "np.array([ord(char) for char in u\"কলস\"])"
      ],
      "execution_count": 6,
      "outputs": [
        {
          "output_type": "execute_result",
          "data": {
            "text/plain": [
              "array([2453, 2482, 2488])"
            ]
          },
          "metadata": {
            "tags": []
          },
          "execution_count": 6
        }
      ]
    },
    {
      "cell_type": "code",
      "metadata": {
        "colab": {
          "base_uri": "https://localhost:8080/"
        },
        "id": "jcz5gs1NtbT0",
        "outputId": "6958c8fe-fdfc-47fb-8ed9-2e2aeb6610e5"
      },
      "source": [
        "np.array([ord(char) for char in \"কলস\"])"
      ],
      "execution_count": 7,
      "outputs": [
        {
          "output_type": "execute_result",
          "data": {
            "text/plain": [
              "array([2453, 2482, 2488])"
            ]
          },
          "metadata": {
            "tags": []
          },
          "execution_count": 7
        }
      ]
    },
    {
      "cell_type": "code",
      "metadata": {
        "colab": {
          "base_uri": "https://localhost:8080/"
        },
        "id": "A5JRHIKStnF3",
        "outputId": "8a5a795d-8e31-4406-89d9-fb40d3b228ff"
      },
      "source": [
        "import tensorflow as tf\r\n",
        "tf.strings.unicode_decode(\"সকল\", input_encoding='UTF-8')"
      ],
      "execution_count": 8,
      "outputs": [
        {
          "output_type": "execute_result",
          "data": {
            "text/plain": [
              "<tf.Tensor: shape=(3,), dtype=int32, numpy=array([2488, 2453, 2482], dtype=int32)>"
            ]
          },
          "metadata": {
            "tags": []
          },
          "execution_count": 8
        }
      ]
    },
    {
      "cell_type": "code",
      "metadata": {
        "colab": {
          "base_uri": "https://localhost:8080/"
        },
        "id": "shTmJe8eymhs",
        "outputId": "eb662d6a-e97c-4ef9-a43b-cafc5efdb099"
      },
      "source": [
        "tf.strings.unicode_decode('আমি ভালবাসি বই পড়তে', 'UTF-8')"
      ],
      "execution_count": 9,
      "outputs": [
        {
          "output_type": "execute_result",
          "data": {
            "text/plain": [
              "<tf.Tensor: shape=(19,), dtype=int32, numpy=\n",
              "array([2438, 2478, 2495,   32, 2477, 2494, 2482, 2476, 2494, 2488, 2495,\n",
              "         32, 2476, 2439,   32, 2474, 2524, 2468, 2503], dtype=int32)>"
            ]
          },
          "metadata": {
            "tags": []
          },
          "execution_count": 9
        }
      ]
    },
    {
      "cell_type": "code",
      "metadata": {
        "colab": {
          "base_uri": "https://localhost:8080/"
        },
        "id": "vGcGBEwK04l9",
        "outputId": "426fc2eb-a3a2-4050-ceaf-bbf5cbf636d9"
      },
      "source": [
        "from tensorflow.keras.preprocessing.text import Tokenizer\r\n",
        "sentences = [\r\n",
        "             'আমি ভালবাসি বই পড়তে।'\r\n",
        "             ]\r\n",
        "tokenizer = Tokenizer(num_words= 10, filters='!।')\r\n",
        "print(tokenizer)"
      ],
      "execution_count": 10,
      "outputs": [
        {
          "output_type": "stream",
          "text": [
            "<keras_preprocessing.text.Tokenizer object at 0x7f44652f6e90>\n"
          ],
          "name": "stdout"
        }
      ]
    },
    {
      "cell_type": "code",
      "metadata": {
        "id": "ZkiHUfrl2X2_"
      },
      "source": [
        "# tokenizer.fit_on_sequences(sentences)\r\n",
        "# word_index = tokenizer.word_index\r\n",
        "# print(word_index)"
      ],
      "execution_count": 11,
      "outputs": []
    },
    {
      "cell_type": "code",
      "metadata": {
        "colab": {
          "base_uri": "https://localhost:8080/"
        },
        "id": "J6xoNYLN3Rr_",
        "outputId": "20db649a-be7c-42bd-96d5-df33d3331c7f"
      },
      "source": [
        "tokenizer.fit_on_texts(sentences)\r\n",
        "word_index = tokenizer.word_index\r\n",
        "print(word_index)"
      ],
      "execution_count": 12,
      "outputs": [
        {
          "output_type": "stream",
          "text": [
            "{'আমি': 1, 'ভালবাসি': 2, 'বই': 3, 'পড়তে': 4}\n"
          ],
          "name": "stdout"
        }
      ]
    },
    {
      "cell_type": "code",
      "metadata": {
        "colab": {
          "base_uri": "https://localhost:8080/"
        },
        "id": "qaOF8TBv3jO2",
        "outputId": "d64df87e-d429-47a8-ceaf-47190d065792"
      },
      "source": [
        "tokenizer.num_words"
      ],
      "execution_count": 13,
      "outputs": [
        {
          "output_type": "execute_result",
          "data": {
            "text/plain": [
              "10"
            ]
          },
          "metadata": {
            "tags": []
          },
          "execution_count": 13
        }
      ]
    },
    {
      "cell_type": "code",
      "metadata": {
        "id": "jUXen-NC31lu"
      },
      "source": [
        "sentences = [\r\n",
        "    'আমি ভালবাসি বই পড়তে।',\r\n",
        "    'আমি ভালবাসি বই লিখতে!'\r\n",
        "        ]"
      ],
      "execution_count": 14,
      "outputs": []
    },
    {
      "cell_type": "code",
      "metadata": {
        "colab": {
          "base_uri": "https://localhost:8080/"
        },
        "id": "gIsXxKrq38Mu",
        "outputId": "117c6d0a-c5a0-4b05-8349-90ab984a7ba5"
      },
      "source": [
        "tokenizer.fit_on_texts(sentences)\r\n",
        "word_index = tokenizer.word_index\r\n",
        "print(word_index)"
      ],
      "execution_count": 15,
      "outputs": [
        {
          "output_type": "stream",
          "text": [
            "{'আমি': 1, 'ভালবাসি': 2, 'বই': 3, 'পড়তে': 4, 'লিখতে': 5}\n"
          ],
          "name": "stdout"
        }
      ]
    },
    {
      "cell_type": "code",
      "metadata": {
        "colab": {
          "base_uri": "https://localhost:8080/"
        },
        "id": "if5Mwjcx4gC1",
        "outputId": "f2e1a0c4-9fe2-43b8-9d06-c66bb83c566d"
      },
      "source": [
        "tokenizer.word_counts"
      ],
      "execution_count": 16,
      "outputs": [
        {
          "output_type": "execute_result",
          "data": {
            "text/plain": [
              "OrderedDict([('আমি', 3), ('ভালবাসি', 3), ('বই', 3), ('পড়তে', 2), ('লিখতে', 1)])"
            ]
          },
          "metadata": {
            "tags": []
          },
          "execution_count": 16
        }
      ]
    },
    {
      "cell_type": "markdown",
      "metadata": {
        "id": "5D0yQAX_8lG7"
      },
      "source": [
        "## tokenizer এর ভেতরের কনফিগারেশন\r\n"
      ]
    },
    {
      "cell_type": "code",
      "metadata": {
        "id": "QQcZOTbp4yud",
        "colab": {
          "base_uri": "https://localhost:8080/"
        },
        "outputId": "dcf54704-3722-4b94-f858-b52f44ef45cc"
      },
      "source": [
        "tokenizer.get_config()"
      ],
      "execution_count": 18,
      "outputs": [
        {
          "output_type": "execute_result",
          "data": {
            "text/plain": [
              "{'char_level': False,\n",
              " 'document_count': 3,\n",
              " 'filters': '!।',\n",
              " 'index_docs': '{\"4\": 2, \"2\": 3, \"3\": 3, \"1\": 3, \"5\": 1}',\n",
              " 'index_word': '{\"1\": \"\\\\u0986\\\\u09ae\\\\u09bf\", \"2\": \"\\\\u09ad\\\\u09be\\\\u09b2\\\\u09ac\\\\u09be\\\\u09b8\\\\u09bf\", \"3\": \"\\\\u09ac\\\\u0987\", \"4\": \"\\\\u09aa\\\\u09dc\\\\u09a4\\\\u09c7\", \"5\": \"\\\\u09b2\\\\u09bf\\\\u0996\\\\u09a4\\\\u09c7\"}',\n",
              " 'lower': True,\n",
              " 'num_words': 10,\n",
              " 'oov_token': None,\n",
              " 'split': ' ',\n",
              " 'word_counts': '{\"\\\\u0986\\\\u09ae\\\\u09bf\": 3, \"\\\\u09ad\\\\u09be\\\\u09b2\\\\u09ac\\\\u09be\\\\u09b8\\\\u09bf\": 3, \"\\\\u09ac\\\\u0987\": 3, \"\\\\u09aa\\\\u09dc\\\\u09a4\\\\u09c7\": 2, \"\\\\u09b2\\\\u09bf\\\\u0996\\\\u09a4\\\\u09c7\": 1}',\n",
              " 'word_docs': '{\"\\\\u09aa\\\\u09dc\\\\u09a4\\\\u09c7\": 2, \"\\\\u09ad\\\\u09be\\\\u09b2\\\\u09ac\\\\u09be\\\\u09b8\\\\u09bf\": 3, \"\\\\u09ac\\\\u0987\": 3, \"\\\\u0986\\\\u09ae\\\\u09bf\": 3, \"\\\\u09b2\\\\u09bf\\\\u0996\\\\u09a4\\\\u09c7\": 1}',\n",
              " 'word_index': '{\"\\\\u0986\\\\u09ae\\\\u09bf\": 1, \"\\\\u09ad\\\\u09be\\\\u09b2\\\\u09ac\\\\u09be\\\\u09b8\\\\u09bf\": 2, \"\\\\u09ac\\\\u0987\": 3, \"\\\\u09aa\\\\u09dc\\\\u09a4\\\\u09c7\": 4, \"\\\\u09b2\\\\u09bf\\\\u0996\\\\u09a4\\\\u09c7\": 5}'}"
            ]
          },
          "metadata": {
            "tags": []
          },
          "execution_count": 18
        }
      ]
    },
    {
      "cell_type": "markdown",
      "metadata": {
        "id": "jPaAZtBn8hzM"
      },
      "source": [
        ""
      ]
    }
  ]
}