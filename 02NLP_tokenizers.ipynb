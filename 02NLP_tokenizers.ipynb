{
  "nbformat": 4,
  "nbformat_minor": 0,
  "metadata": {
    "colab": {
      "name": "02NLP_tokenizers.ipynb",
      "provenance": []
    },
    "kernelspec": {
      "name": "python3",
      "display_name": "Python 3"
    }
  },
  "cells": [
    {
      "cell_type": "code",
      "metadata": {
        "id": "gg8Sar85bqrN"
      },
      "source": [
        "from tensorflow.keras.preprocessing.text import Tokenizer\r\n",
        "sentences = ['আমি বই ভালবাসি',\r\n",
        "             'আমি বই পড়তে ভালবাসি!',\r\n",
        "]\r\n",
        "tokenizer = Tokenizer(num_words=10)"
      ],
      "execution_count": 3,
      "outputs": []
    },
    {
      "cell_type": "code",
      "metadata": {
        "colab": {
          "base_uri": "https://localhost:8080/"
        },
        "id": "8R96nrSrdB3c",
        "outputId": "93334d68-4d01-45a4-ddc0-9159e831f6e4"
      },
      "source": [
        "tokenizer.num_words"
      ],
      "execution_count": 4,
      "outputs": [
        {
          "output_type": "execute_result",
          "data": {
            "text/plain": [
              "10"
            ]
          },
          "metadata": {
            "tags": []
          },
          "execution_count": 4
        }
      ]
    },
    {
      "cell_type": "code",
      "metadata": {
        "colab": {
          "base_uri": "https://localhost:8080/"
        },
        "id": "xmVClZGMdh2W",
        "outputId": "8a690ee6-b335-46ae-93c5-63e0532b0044"
      },
      "source": [
        "tokenizer.fit_on_texts(sentences)\r\n",
        "word_index = tokenizer.word_index\r\n",
        "print(word_index)"
      ],
      "execution_count": 5,
      "outputs": [
        {
          "output_type": "stream",
          "text": [
            "{'আমি': 1, 'বই': 2, 'ভালবাসি': 3, 'পড়তে': 4}\n"
          ],
          "name": "stdout"
        }
      ]
    },
    {
      "cell_type": "code",
      "metadata": {
        "colab": {
          "base_uri": "https://localhost:8080/"
        },
        "id": "iJOckov3eDS9",
        "outputId": "03be6043-ebcc-48d7-b33d-0054a5ae1e56"
      },
      "source": [
        "tokenizer.word_counts"
      ],
      "execution_count": 6,
      "outputs": [
        {
          "output_type": "execute_result",
          "data": {
            "text/plain": [
              "OrderedDict([('আমি', 2), ('বই', 2), ('ভালবাসি', 2), ('পড়তে', 1)])"
            ]
          },
          "metadata": {
            "tags": []
          },
          "execution_count": 6
        }
      ]
    },
    {
      "cell_type": "code",
      "metadata": {
        "colab": {
          "base_uri": "https://localhost:8080/"
        },
        "id": "NTh2_HlieLDl",
        "outputId": "e797d6eb-793c-40a5-cbeb-b892658988e6"
      },
      "source": [
        "tokenizer.get_config()"
      ],
      "execution_count": 7,
      "outputs": [
        {
          "output_type": "execute_result",
          "data": {
            "text/plain": [
              "{'char_level': False,\n",
              " 'document_count': 2,\n",
              " 'filters': '!\"#$%&()*+,-./:;<=>?@[\\\\]^_`{|}~\\t\\n',\n",
              " 'index_docs': '{\"2\": 2, \"3\": 2, \"1\": 2, \"4\": 1}',\n",
              " 'index_word': '{\"1\": \"\\\\u0986\\\\u09ae\\\\u09bf\", \"2\": \"\\\\u09ac\\\\u0987\", \"3\": \"\\\\u09ad\\\\u09be\\\\u09b2\\\\u09ac\\\\u09be\\\\u09b8\\\\u09bf\", \"4\": \"\\\\u09aa\\\\u09dc\\\\u09a4\\\\u09c7\"}',\n",
              " 'lower': True,\n",
              " 'num_words': 10,\n",
              " 'oov_token': None,\n",
              " 'split': ' ',\n",
              " 'word_counts': '{\"\\\\u0986\\\\u09ae\\\\u09bf\": 2, \"\\\\u09ac\\\\u0987\": 2, \"\\\\u09ad\\\\u09be\\\\u09b2\\\\u09ac\\\\u09be\\\\u09b8\\\\u09bf\": 2, \"\\\\u09aa\\\\u09dc\\\\u09a4\\\\u09c7\": 1}',\n",
              " 'word_docs': '{\"\\\\u09ac\\\\u0987\": 2, \"\\\\u09ad\\\\u09be\\\\u09b2\\\\u09ac\\\\u09be\\\\u09b8\\\\u09bf\": 2, \"\\\\u0986\\\\u09ae\\\\u09bf\": 2, \"\\\\u09aa\\\\u09dc\\\\u09a4\\\\u09c7\": 1}',\n",
              " 'word_index': '{\"\\\\u0986\\\\u09ae\\\\u09bf\": 1, \"\\\\u09ac\\\\u0987\": 2, \"\\\\u09ad\\\\u09be\\\\u09b2\\\\u09ac\\\\u09be\\\\u09b8\\\\u09bf\": 3, \"\\\\u09aa\\\\u09dc\\\\u09a4\\\\u09c7\": 4}'}"
            ]
          },
          "metadata": {
            "tags": []
          },
          "execution_count": 7
        }
      ]
    },
    {
      "cell_type": "markdown",
      "metadata": {
        "id": "sLMhpnclgTk9"
      },
      "source": [
        "## স্টেমিং"
      ]
    },
    {
      "cell_type": "code",
      "metadata": {
        "colab": {
          "base_uri": "https://localhost:8080/"
        },
        "id": "Tt2lOcv2e1s9",
        "outputId": "df0df40e-c4f3-4e7a-8d59-8b628cbc1a4c"
      },
      "source": [
        "!pip install bangla-stemmer"
      ],
      "execution_count": 8,
      "outputs": [
        {
          "output_type": "stream",
          "text": [
            "Collecting bangla-stemmer\n",
            "  Downloading https://files.pythonhosted.org/packages/0b/94/43286b4f9948268e0468d6203a1a1ad6f2ccb2273b7d952daf99413d67e5/bangla_stemmer-1.0-py3-none-any.whl\n",
            "Installing collected packages: bangla-stemmer\n",
            "Successfully installed bangla-stemmer-1.0\n"
          ],
          "name": "stdout"
        }
      ]
    },
    {
      "cell_type": "code",
      "metadata": {
        "colab": {
          "base_uri": "https://localhost:8080/"
        },
        "id": "2-pQKu6FfjoO",
        "outputId": "79cb7102-c137-4dce-c410-cc16935209eb"
      },
      "source": [
        "from bangla_stemmer.stemmer import stemmer\r\n",
        "wordlist= ['বাড়িতে', 'আমাকে', 'নামাবার']\r\n",
        "stmr = stemmer.BanglaStemmer()\r\n",
        "#print(stmr)\r\n",
        "stm = stmr.stem(wordlist)\r\n",
        "print(stm)"
      ],
      "execution_count": 12,
      "outputs": [
        {
          "output_type": "stream",
          "text": [
            "applied first rules..\n",
            "applied first rules..\n",
            "applied fourth rules..\n",
            "['বাড়ি', 'আমা', 'নামা']\n"
          ],
          "name": "stdout"
        }
      ]
    },
    {
      "cell_type": "markdown",
      "metadata": {
        "id": "mfFmTaL6gbCt"
      },
      "source": [
        "## স্টেমিং 2"
      ]
    },
    {
      "cell_type": "code",
      "metadata": {
        "colab": {
          "base_uri": "https://localhost:8080/"
        },
        "id": "t_TzE8FVfuxV",
        "outputId": "d56de071-04cd-41a9-fd78-57256340de13"
      },
      "source": [
        "!pip install py_bangla_stemmer"
      ],
      "execution_count": 13,
      "outputs": [
        {
          "output_type": "stream",
          "text": [
            "Collecting py_bangla_stemmer\n",
            "  Downloading https://files.pythonhosted.org/packages/5b/75/305f91cc5cf05d3868f36273434edee0f9459d051f343bf21e1067fc64c4/py-bangla-stemmer-0.5.1.tar.gz\n",
            "Building wheels for collected packages: py-bangla-stemmer\n",
            "  Building wheel for py-bangla-stemmer (setup.py) ... \u001b[?25l\u001b[?25hdone\n",
            "  Created wheel for py-bangla-stemmer: filename=py_bangla_stemmer-0.5.1-cp37-none-any.whl size=17334 sha256=27b63de53060e9d494f0d99a6912249ba4ff1b43adf4a9e2dda0a19dbfc01eb6\n",
            "  Stored in directory: /root/.cache/pip/wheels/20/8e/75/395e25df10dbcfbff50808fffb5ea1ca576ab1c5b13251e2a8\n",
            "Successfully built py-bangla-stemmer\n",
            "Installing collected packages: py-bangla-stemmer\n",
            "Successfully installed py-bangla-stemmer-0.5.1\n"
          ],
          "name": "stdout"
        }
      ]
    },
    {
      "cell_type": "code",
      "metadata": {
        "colab": {
          "base_uri": "https://localhost:8080/",
          "height": 35
        },
        "id": "cS0KCROEgtpE",
        "outputId": "6ad860bf-9f0c-47b5-8923-01ee72fa2046"
      },
      "source": [
        "from py_bangla_stemmer import BanglaStemmer\r\n",
        "wordlist= ['বাড়িতে', 'আমাকে', 'নামাবার']\r\n",
        "stemmer = BanglaStemmer()\r\n",
        "#stemmer.stem(' সেটাই')\r\n",
        "stemmer.stem('নামাবার')"
      ],
      "execution_count": 20,
      "outputs": [
        {
          "output_type": "execute_result",
          "data": {
            "application/vnd.google.colaboratory.intrinsic+json": {
              "type": "string"
            },
            "text/plain": [
              "'নামাব'"
            ]
          },
          "metadata": {
            "tags": []
          },
          "execution_count": 20
        }
      ]
    },
    {
      "cell_type": "code",
      "metadata": {
        "colab": {
          "base_uri": "https://localhost:8080/",
          "height": 35
        },
        "id": "rxovBexnh9X7",
        "outputId": "1136d5c0-d97e-4b6e-ddbb-7197cb91b904"
      },
      "source": [
        "stemmer.stem('জনপ্রিয়তা')"
      ],
      "execution_count": 21,
      "outputs": [
        {
          "output_type": "execute_result",
          "data": {
            "application/vnd.google.colaboratory.intrinsic+json": {
              "type": "string"
            },
            "text/plain": [
              "'জনপ্রি'"
            ]
          },
          "metadata": {
            "tags": []
          },
          "execution_count": 21
        }
      ]
    },
    {
      "cell_type": "code",
      "metadata": {
        "colab": {
          "base_uri": "https://localhost:8080/",
          "height": 35
        },
        "id": "P6N5Ilt40NXl",
        "outputId": "af370f5a-07c7-4d41-c35a-9e9c496d96c8"
      },
      "source": [
        "stemmer.stem(' সেটাই')\r\n"
      ],
      "execution_count": 22,
      "outputs": [
        {
          "output_type": "execute_result",
          "data": {
            "application/vnd.google.colaboratory.intrinsic+json": {
              "type": "string"
            },
            "text/plain": [
              "'সে'"
            ]
          },
          "metadata": {
            "tags": []
          },
          "execution_count": 22
        }
      ]
    },
    {
      "cell_type": "code",
      "metadata": {
        "colab": {
          "base_uri": "https://localhost:8080/",
          "height": 35
        },
        "id": "qkGqsky90REs",
        "outputId": "a89face8-4fa9-4549-ee5f-76967817accc"
      },
      "source": [
        "stemmer.stem('বাংলায়')"
      ],
      "execution_count": 23,
      "outputs": [
        {
          "output_type": "execute_result",
          "data": {
            "application/vnd.google.colaboratory.intrinsic+json": {
              "type": "string"
            },
            "text/plain": [
              "'বাংলা'"
            ]
          },
          "metadata": {
            "tags": []
          },
          "execution_count": 23
        }
      ]
    },
    {
      "cell_type": "markdown",
      "metadata": {
        "id": "RIG-td3H1HYd"
      },
      "source": [
        "## 'বাংলা' ন্যাচারাল ল্যাঙ্গুয়েজ প্রসেসিং এ \"টেক্সট থেকে সিকোয়েন্সে\""
      ]
    },
    {
      "cell_type": "code",
      "metadata": {
        "id": "1tOhC0s70TtU"
      },
      "source": [
        "from tensorflow.keras.preprocessing.text import Tokenizer\r\n",
        "sentences = sentences = [\r\n",
        "    'আমি ভালবাসি বই পড়তে,',\r\n",
        "    'আমি ভালবাসি বই লিখতে!',\r\n",
        "    'বইমেলা এলে আমি প্রচুর বই কিনি'\r\n",
        "        ]\r\n",
        "tokenizer = Tokenizer(num_words= 10)"
      ],
      "execution_count": 24,
      "outputs": []
    },
    {
      "cell_type": "code",
      "metadata": {
        "colab": {
          "base_uri": "https://localhost:8080/"
        },
        "id": "SVBcgSHd1xa_",
        "outputId": "6e0c03ab-6890-4b84-911a-3498646ada57"
      },
      "source": [
        "tokenizer.fit_on_texts(sentences)\r\n",
        "word_index = tokenizer.word_index\r\n",
        "print(word_index)"
      ],
      "execution_count": 25,
      "outputs": [
        {
          "output_type": "stream",
          "text": [
            "{'আমি': 1, 'বই': 2, 'ভালবাসি': 3, 'পড়তে': 4, 'লিখতে': 5, 'বইমেলা': 6, 'এলে': 7, 'প্রচুর': 8, 'কিনি': 9}\n"
          ],
          "name": "stdout"
        }
      ]
    },
    {
      "cell_type": "code",
      "metadata": {
        "colab": {
          "base_uri": "https://localhost:8080/"
        },
        "id": "Nqe1Z1Uy2ZHC",
        "outputId": "bbe8e0d4-5e66-4674-bd41-0989e1a8934c"
      },
      "source": [
        "tokenizer.get_config()"
      ],
      "execution_count": 27,
      "outputs": [
        {
          "output_type": "execute_result",
          "data": {
            "text/plain": [
              "{'char_level': False,\n",
              " 'document_count': 3,\n",
              " 'filters': '!\"#$%&()*+,-./:;<=>?@[\\\\]^_`{|}~\\t\\n',\n",
              " 'index_docs': '{\"2\": 3, \"3\": 2, \"4\": 1, \"1\": 3, \"5\": 1, \"8\": 1, \"6\": 1, \"7\": 1, \"9\": 1}',\n",
              " 'index_word': '{\"1\": \"\\\\u0986\\\\u09ae\\\\u09bf\", \"2\": \"\\\\u09ac\\\\u0987\", \"3\": \"\\\\u09ad\\\\u09be\\\\u09b2\\\\u09ac\\\\u09be\\\\u09b8\\\\u09bf\", \"4\": \"\\\\u09aa\\\\u09dc\\\\u09a4\\\\u09c7\", \"5\": \"\\\\u09b2\\\\u09bf\\\\u0996\\\\u09a4\\\\u09c7\", \"6\": \"\\\\u09ac\\\\u0987\\\\u09ae\\\\u09c7\\\\u09b2\\\\u09be\", \"7\": \"\\\\u098f\\\\u09b2\\\\u09c7\", \"8\": \"\\\\u09aa\\\\u09cd\\\\u09b0\\\\u099a\\\\u09c1\\\\u09b0\", \"9\": \"\\\\u0995\\\\u09bf\\\\u09a8\\\\u09bf\"}',\n",
              " 'lower': True,\n",
              " 'num_words': 10,\n",
              " 'oov_token': None,\n",
              " 'split': ' ',\n",
              " 'word_counts': '{\"\\\\u0986\\\\u09ae\\\\u09bf\": 3, \"\\\\u09ad\\\\u09be\\\\u09b2\\\\u09ac\\\\u09be\\\\u09b8\\\\u09bf\": 2, \"\\\\u09ac\\\\u0987\": 3, \"\\\\u09aa\\\\u09dc\\\\u09a4\\\\u09c7\": 1, \"\\\\u09b2\\\\u09bf\\\\u0996\\\\u09a4\\\\u09c7\": 1, \"\\\\u09ac\\\\u0987\\\\u09ae\\\\u09c7\\\\u09b2\\\\u09be\": 1, \"\\\\u098f\\\\u09b2\\\\u09c7\": 1, \"\\\\u09aa\\\\u09cd\\\\u09b0\\\\u099a\\\\u09c1\\\\u09b0\": 1, \"\\\\u0995\\\\u09bf\\\\u09a8\\\\u09bf\": 1}',\n",
              " 'word_docs': '{\"\\\\u09ac\\\\u0987\": 3, \"\\\\u09ad\\\\u09be\\\\u09b2\\\\u09ac\\\\u09be\\\\u09b8\\\\u09bf\": 2, \"\\\\u09aa\\\\u09dc\\\\u09a4\\\\u09c7\": 1, \"\\\\u0986\\\\u09ae\\\\u09bf\": 3, \"\\\\u09b2\\\\u09bf\\\\u0996\\\\u09a4\\\\u09c7\": 1, \"\\\\u09aa\\\\u09cd\\\\u09b0\\\\u099a\\\\u09c1\\\\u09b0\": 1, \"\\\\u09ac\\\\u0987\\\\u09ae\\\\u09c7\\\\u09b2\\\\u09be\": 1, \"\\\\u098f\\\\u09b2\\\\u09c7\": 1, \"\\\\u0995\\\\u09bf\\\\u09a8\\\\u09bf\": 1}',\n",
              " 'word_index': '{\"\\\\u0986\\\\u09ae\\\\u09bf\": 1, \"\\\\u09ac\\\\u0987\": 2, \"\\\\u09ad\\\\u09be\\\\u09b2\\\\u09ac\\\\u09be\\\\u09b8\\\\u09bf\": 3, \"\\\\u09aa\\\\u09dc\\\\u09a4\\\\u09c7\": 4, \"\\\\u09b2\\\\u09bf\\\\u0996\\\\u09a4\\\\u09c7\": 5, \"\\\\u09ac\\\\u0987\\\\u09ae\\\\u09c7\\\\u09b2\\\\u09be\": 6, \"\\\\u098f\\\\u09b2\\\\u09c7\": 7, \"\\\\u09aa\\\\u09cd\\\\u09b0\\\\u099a\\\\u09c1\\\\u09b0\": 8, \"\\\\u0995\\\\u09bf\\\\u09a8\\\\u09bf\": 9}'}"
            ]
          },
          "metadata": {
            "tags": []
          },
          "execution_count": 27
        }
      ]
    },
    {
      "cell_type": "code",
      "metadata": {
        "id": "ZDWxPOpi27IK"
      },
      "source": [
        "sentences = [\r\n",
        "    'আমি ভালবাসি বই পড়তে,',\r\n",
        "    'আমি ভালবাসি বই লিখতে!',\r\n",
        "    'বইমেলা এলে আমি প্রচুর বই কিনি',\r\n",
        "    'এইবার বইমেলায় আমার সাথে তুমি কি যাবে?'\r\n",
        "]"
      ],
      "execution_count": 31,
      "outputs": []
    },
    {
      "cell_type": "code",
      "metadata": {
        "id": "0LjaRGnF6gdr"
      },
      "source": [
        "sent= ['আমি তোমাকে ভালবাসি ']"
      ],
      "execution_count": 39,
      "outputs": []
    },
    {
      "cell_type": "code",
      "metadata": {
        "colab": {
          "base_uri": "https://localhost:8080/"
        },
        "id": "Y4IOvLfP5ITZ",
        "outputId": "62afd0d9-9c11-4503-88b3-ecc992712290"
      },
      "source": [
        "tokenizer = Tokenizer(num_words=100)\r\n",
        "tokenizer.fit_on_texts(sentences)\r\n",
        "word_index = tokenizer.word_index\r\n",
        "sequences = tokenizer.texts_to_sequences(sentences)\r\n",
        "print(\"\\nওয়ার্ড ইনডেক্স = \", word_index)\r\n",
        "print(\"\\nসিকোয়েন্স = \", sequences)"
      ],
      "execution_count": 42,
      "outputs": [
        {
          "output_type": "stream",
          "text": [
            "\n",
            "ওয়ার্ড ইনডেক্স =  {'আমি': 1, 'বই': 2, 'ভালবাসি': 3, 'পড়তে': 4, 'লিখতে': 5, 'বইমেলা': 6, 'এলে': 7, 'প্রচুর': 8, 'কিনি': 9, 'এইবার': 10, 'বইমেলায়': 11, 'আমার': 12, 'সাথে': 13, 'তুমি': 14, 'কি': 15, 'যাবে': 16}\n",
            "\n",
            "সিকোয়েন্স =  [[1, 3, 2, 4], [1, 3, 2, 5], [6, 7, 1, 8, 2, 9], [10, 11, 12, 13, 14, 15, 16]]\n"
          ],
          "name": "stdout"
        }
      ]
    },
    {
      "cell_type": "code",
      "metadata": {
        "colab": {
          "base_uri": "https://localhost:8080/"
        },
        "id": "l2zivwDZ5uRU",
        "outputId": "69a5fb94-f436-4984-9600-866dfcec2608"
      },
      "source": [
        "# sequences = tokenizer.texts_to_sequences(sent)\r\n",
        "# print(sequences)"
      ],
      "execution_count": 41,
      "outputs": [
        {
          "output_type": "stream",
          "text": [
            "[[1, 3]]\n"
          ],
          "name": "stdout"
        }
      ]
    },
    {
      "cell_type": "code",
      "metadata": {
        "colab": {
          "base_uri": "https://localhost:8080/"
        },
        "id": "tjNBB_yQ6vxm",
        "outputId": "13c6f18d-01dd-4427-90f7-b9c0c24d34f1"
      },
      "source": [
        "from tensorflow.keras.preprocessing.sequence import pad_sequences\r\n",
        "padded = pad_sequences(sequences)\r\n",
        "print(\"\\nওয়ার্ড ইনডেক্স = \", word_index)\r\n",
        "print(\"\\nসিকোয়েন্স = \", sequences)\r\n",
        "print(\"\\n'0' দিয়ে প্যাডিং দেয়া সিকোয়েন্স:\\n\", padded)"
      ],
      "execution_count": 45,
      "outputs": [
        {
          "output_type": "stream",
          "text": [
            "\n",
            "ওয়ার্ড ইনডেক্স =  {'আমি': 1, 'বই': 2, 'ভালবাসি': 3, 'পড়তে': 4, 'লিখতে': 5, 'বইমেলা': 6, 'এলে': 7, 'প্রচুর': 8, 'কিনি': 9, 'এইবার': 10, 'বইমেলায়': 11, 'আমার': 12, 'সাথে': 13, 'তুমি': 14, 'কি': 15, 'যাবে': 16}\n",
            "\n",
            "সিকোয়েন্স =  [[1, 3, 2, 4], [1, 3, 2, 5], [6, 7, 1, 8, 2, 9], [10, 11, 12, 13, 14, 15, 16]]\n",
            "\n",
            "'0' দিয়ে প্যাডিং দেয়া সিকোয়েন্স:\n",
            " [[ 0  0  0  1  3  2  4]\n",
            " [ 0  0  0  1  3  2  5]\n",
            " [ 0  6  7  1  8  2  9]\n",
            " [10 11 12 13 14 15 16]]\n"
          ],
          "name": "stdout"
        }
      ]
    },
    {
      "cell_type": "code",
      "metadata": {
        "colab": {
          "base_uri": "https://localhost:8080/"
        },
        "id": "C_kmuM1S99_s",
        "outputId": "51206a17-ccbd-4773-f4bc-0052cf8c79df"
      },
      "source": [
        "padded = pad_sequences(sequences,padding='post',maxlen=10)\r\n",
        "print(\"\\n'0' দিয়ে প্যাডিং দেয়া সিকোয়েন্স:\\n\", padded)"
      ],
      "execution_count": 46,
      "outputs": [
        {
          "output_type": "stream",
          "text": [
            "\n",
            "'0' দিয়ে প্যাডিং দেয়া সিকোয়েন্স:\n",
            " [[ 1  3  2  4  0  0  0  0  0  0]\n",
            " [ 1  3  2  5  0  0  0  0  0  0]\n",
            " [ 6  7  1  8  2  9  0  0  0  0]\n",
            " [10 11 12 13 14 15 16  0  0  0]]\n"
          ],
          "name": "stdout"
        }
      ]
    },
    {
      "cell_type": "code",
      "metadata": {
        "colab": {
          "base_uri": "https://localhost:8080/"
        },
        "id": "QHJw5O5M-m-s",
        "outputId": "c041c8e4-29fe-4ff1-945b-ea5ff2f4b166"
      },
      "source": [
        "padded = pad_sequences(sequences,padding='post',truncating='post',maxlen=5)\r\n",
        "print(\"\\n'0' দিয়ে প্যাডিং দেয়া সিকোয়েন্স:\\n\", padded)"
      ],
      "execution_count": 48,
      "outputs": [
        {
          "output_type": "stream",
          "text": [
            "\n",
            "'0' দিয়ে প্যাডিং দেয়া সিকোয়েন্স:\n",
            " [[ 1  3  2  4  0]\n",
            " [ 1  3  2  5  0]\n",
            " [ 6  7  1  8  2]\n",
            " [10 11 12 13 14]]\n"
          ],
          "name": "stdout"
        }
      ]
    },
    {
      "cell_type": "code",
      "metadata": {
        "colab": {
          "base_uri": "https://localhost:8080/"
        },
        "id": "Jz-Cgc_y_Ylr",
        "outputId": "6f01bf5c-efcc-4768-dec0-ab1e968565d2"
      },
      "source": [
        "# আমরা নতুন কিছু শব্দ ব্যবহার করি যেটা আমাদের টোকেনাইজারকে ফিট করা হয়নি\r\n",
        "test_data = [\r\n",
        "    'আমি আসলেই ভালবাসি বই পড়তে',\r\n",
        "    'বইমেলায় এবার প্রচুর নতুন বই এসেছে!'\r\n",
        "]\r\n",
        "\r\n",
        "# texts_to_sequences কি বের করে দেখি\r\n",
        "test_seq = tokenizer.texts_to_sequences(test_data)\r\n",
        "print(\"টেস্ট সিকোয়েন্স = \", test_seq)"
      ],
      "execution_count": 49,
      "outputs": [
        {
          "output_type": "stream",
          "text": [
            "টেস্ট সিকোয়েন্স =  [[1, 3, 2, 4], [11, 8, 2]]\n"
          ],
          "name": "stdout"
        }
      ]
    },
    {
      "cell_type": "markdown",
      "metadata": {
        "id": "o1lreHnUD-SJ"
      },
      "source": [
        "## আউট অফ ভোকাবুলারি টোকেন এবং প্যাড সিকোয়েন্স"
      ]
    },
    {
      "cell_type": "code",
      "metadata": {
        "id": "2uIzAxlgAK85"
      },
      "source": [
        "from tensorflow.keras.preprocessing.text import Tokenizer\r\n",
        "sentences = [\r\n",
        "    'আমি ভালবাসি বই পড়তে,',\r\n",
        "    'আমি ভালবাসি বই লিখতে!',\r\n",
        "    'বইমেলা এলে আমি প্রচুর বই কিনি',\r\n",
        "    'এইবার বইমেলায় আমার সাথে তুমি কি যাবে?'\r\n",
        "]"
      ],
      "execution_count": 50,
      "outputs": []
    },
    {
      "cell_type": "code",
      "metadata": {
        "id": "bsK0YTPUOiKg"
      },
      "source": [
        "tokenizer = Tokenizer(num_words=100, oov_token=\"<OOV>\")\r\n",
        "tokenizer.fit_on_texts(sentences)\r\n",
        "word_index = tokenizer.word_index\r\n",
        "sequences = tokenizer.texts_to_sequences(sentences)"
      ],
      "execution_count": 51,
      "outputs": []
    },
    {
      "cell_type": "code",
      "metadata": {
        "colab": {
          "base_uri": "https://localhost:8080/"
        },
        "id": "y29_tC9BPxl1",
        "outputId": "06b9abd8-671f-40a0-f1bf-165ee954e36f"
      },
      "source": [
        "from tensorflow.keras.preprocessing.sequence import pad_sequences\r\n",
        "padded = pad_sequences(sequences,maxlen=8)\r\n",
        "print(\"\\nওয়ার্ড ইনডেক্স = \", word_index)\r\n",
        "print(\"\\nসিকোয়েন্স = \", sequences)\r\n",
        "print(\"\\n'0' দিয়ে প্যাডিং দেয়া সিকোয়েন্স:\\n\", padded)"
      ],
      "execution_count": 54,
      "outputs": [
        {
          "output_type": "stream",
          "text": [
            "\n",
            "ওয়ার্ড ইনডেক্স =  {'<OOV>': 1, 'আমি': 2, 'বই': 3, 'ভালবাসি': 4, 'পড়তে': 5, 'লিখতে': 6, 'বইমেলা': 7, 'এলে': 8, 'প্রচুর': 9, 'কিনি': 10, 'এইবার': 11, 'বইমেলায়': 12, 'আমার': 13, 'সাথে': 14, 'তুমি': 15, 'কি': 16, 'যাবে': 17}\n",
            "\n",
            "সিকোয়েন্স =  [[2, 4, 3, 5], [2, 4, 3, 6], [7, 8, 2, 9, 3, 10], [11, 12, 13, 14, 15, 16, 17]]\n",
            "\n",
            "'0' দিয়ে প্যাডিং দেয়া সিকোয়েন্স:\n",
            " [[ 0  0  0  0  2  4  3  5]\n",
            " [ 0  0  0  0  2  4  3  6]\n",
            " [ 0  0  7  8  2  9  3 10]\n",
            " [ 0 11 12 13 14 15 16 17]]\n"
          ],
          "name": "stdout"
        }
      ]
    },
    {
      "cell_type": "code",
      "metadata": {
        "id": "jGZ8zoDvP5u1"
      },
      "source": [
        "# আমরা নতুন কিছু শব্দ ব্যবহার করি যেটা আমাদের টোকেনাইজারকে ফিট করা হয়নি\r\n",
        "test_data = [\r\n",
        "    'আমি আসলেই ভালবাসি বই পড়তে',\r\n",
        "    'বইমেলায় এবার প্রচুর নতুন বই এসেছে!'\r\n",
        "]"
      ],
      "execution_count": 55,
      "outputs": []
    },
    {
      "cell_type": "code",
      "metadata": {
        "colab": {
          "base_uri": "https://localhost:8080/"
        },
        "id": "LbaOUrPsQb9U",
        "outputId": "e8053cf6-50a7-46e5-d260-5309e6c09569"
      },
      "source": [
        "test_seq = tokenizer.texts_to_sequences(test_data)\r\n",
        "print(\"টেস্ট সিকোয়েন্স = \", test_seq)\r\n",
        "padded = pad_sequences(test_seq,maxlen=8)\r\n",
        "print(\"\\n'0' দিয়ে প্যাডিং দেয়া সিকোয়েন্স:\\n\", padded)"
      ],
      "execution_count": 56,
      "outputs": [
        {
          "output_type": "stream",
          "text": [
            "টেস্ট সিকোয়েন্স =  [[2, 1, 4, 3, 5], [12, 1, 9, 1, 3, 1]]\n",
            "\n",
            "'0' দিয়ে প্যাডিং দেয়া সিকোয়েন্স:\n",
            " [[ 0  0  0  2  1  4  3  5]\n",
            " [ 0  0 12  1  9  1  3  1]]\n"
          ],
          "name": "stdout"
        }
      ]
    },
    {
      "cell_type": "code",
      "metadata": {
        "id": "oaHK2xYUQ1eM"
      },
      "source": [
        ""
      ],
      "execution_count": null,
      "outputs": []
    }
  ]
}